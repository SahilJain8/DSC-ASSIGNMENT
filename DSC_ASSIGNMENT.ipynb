{
  "nbformat": 4,
  "nbformat_minor": 0,
  "metadata": {
    "colab": {
      "name": "DSC ASSIGNMENT ",
      "provenance": [],
      "collapsed_sections": []
    },
    "kernelspec": {
      "name": "python3",
      "display_name": "Python 3"
    }
  },
  "cells": [
    {
      "cell_type": "code",
      "metadata": {
        "id": "PXPl2hsPgKxB",
        "colab_type": "code",
        "colab": {
          "base_uri": "https://localhost:8080/",
          "height": 68
        },
        "outputId": "a4c29d75-4003-413c-8e65-29d353ae79a8"
      },
      "source": [
        " \n",
        " \n",
        "thriller=[\"Dark\",\"Mindhunter\",\"Parasite\",\"Inception\",\"Insidious\",\"Interstellar\",\"Prison Break\",\"Money Heist\",\"War\",\"Jack Ryan\"]\n",
        "comedy=[\"Friends\",\"3 Idiots\",\"Brooklyn 99\",\"How I Met Your Mother\",\"Rick And Morty\",\"The Big Bang Theory\",\"The Office\",\"Space Force\"]\n",
        "print(\"Enter a Movie name: \")\n",
        "choose=input() \n",
        "choose =choose.lower()\n",
        "thriller=map(str.lower, thriller)  \n",
        "comedy=map(str.lower, comedy)\n",
        "if choose in thriller:\n",
        "        print(\"This is a Thriller movie\")\n",
        "elif choose in comedy:\n",
        "        print(\"This is a Comedy movie\")\n",
        "else:\n",
        "        print(\"It's neither Thriller nor Comedy\")"
      ],
      "execution_count": null,
      "outputs": [
        {
          "output_type": "stream",
          "text": [
            "Enter a Movie name: \n",
            "Hu\n",
            "It's neither Thriller nor Comedy\n"
          ],
          "name": "stdout"
        }
      ]
    },
    {
      "cell_type": "code",
      "metadata": {
        "id": "0j5RYvQPiZJL",
        "colab_type": "code",
        "colab": {
          "base_uri": "https://localhost:8080/",
          "height": 34
        },
        "outputId": "c494ba88-5bf8-48a0-d3e5-9993d6f1e77e"
      },
      "source": [
        "n =10\n",
        "ar = [1, 2, 3, 1, 2, 3, 5, 1, 1, 4]\n",
        "def sockMerchant(n, ar):\n",
        " totalpair=0\n",
        " test =list(set(ar))\n",
        " for i in test:\n",
        "     pair = 0\n",
        "     for j in ar:\n",
        "            if i==j:\n",
        "               pair+=1\n",
        "     if pair>= 2:\n",
        "             totalpair=totalpair+int(pair/2)\n",
        " return totalpair\n",
        "print(sockMerchant(n,ar))"
      ],
      "execution_count": null,
      "outputs": [
        {
          "output_type": "stream",
          "text": [
            "4\n"
          ],
          "name": "stdout"
        }
      ]
    }
  ]
}